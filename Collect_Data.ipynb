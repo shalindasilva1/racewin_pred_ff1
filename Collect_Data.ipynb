{
 "cells": [
  {
   "cell_type": "code",
   "id": "initial_id",
   "metadata": {
    "collapsed": true
   },
   "source": [
    "import fastf1 as ff1\n",
    "import pandas as pd\n",
    "\n",
    "ff1.Cache.enable_cache('Data/.cache')"
   ],
   "outputs": [],
   "execution_count": null
  },
  {
   "metadata": {},
   "cell_type": "code",
   "source": [
    "YEARS_TO_COLLECT = range(2019, 2024)\n",
    "all_race_data = []\n",
    "for year in YEARS_TO_COLLECT:\n",
    "    print(f\"Fetching data for year: {year}\")\n",
    "    # Get the event schedule for the year\n",
    "    try:\n",
    "        schedule = ff1.get_event_schedule(year, include_testing=False)\n",
    "    except Exception as e:\n",
    "        print(f\"Could not get schedule for {year}: {e}\")\n",
    "        continue\n",
    "    # Loop through each event in the schedule\n",
    "    for index, event in schedule.iterrows():\n",
    "        if event['EventFormat'] not in ['conventional', 'sprint_qualifying', 'sprint_shootout']: # Adjust as needed based on F1 formats\n",
    "            continue\n",
    "\n",
    "        event_name = event['EventName']\n",
    "        print(f\"  Processing Event: {event_name}\")\n",
    "\n",
    "        try:\n",
    "            # --- Load Qualifying Data ---\n",
    "            qualify_session = ff1.get_session(year, event_name, 'Q')\n",
    "            qualify_session.load(laps=False, telemetry=False, weather=False, messages=False, results=True) # Only need results for grid pos\n",
    "            if qualify_session.results is None:\n",
    "                print(f\"    No Qualifying results found for {event_name}, {year}. Skipping.\")\n",
    "                continue\n",
    "            # Get qualifying positions into a dictionary for easy lookup\n",
    "            qualifying_positions = qualify_session.results.set_index('Abbreviation')['GridPosition'].to_dict()\n",
    "\n",
    "            # --- Load Race Data ---\n",
    "            race_session = ff1.get_session(year, event_name, 'R') # 'R' for Race\n",
    "            # Load necessary data - start with results, maybe add laps later if needed for pace analysis\n",
    "            # Be mindful of memory: telemetry=True can be very heavy\n",
    "            race_session.load(laps=True, telemetry=False, weather=True, messages=False, results=True)\n",
    "            if race_session.results is None:\n",
    "                print(f\"    No Race results found for {event_name}, {year}. Skipping.\")\n",
    "                continue\n",
    "\n",
    "            for drv_abbr, result in race_session.results.set_index('Abbreviation').iterrows():\n",
    "                grid_pos = qualifying_positions.get(drv_abbr, None) # Get grid pos from qualify data\n",
    "\n",
    "                # Check if grid position is valid (e.g., 0 means Pit Lane start, handle appropriately)\n",
    "                if grid_pos is None or pd.isna(grid_pos) or grid_pos == 0:\n",
    "                    grid_pos = 20 # Or max grid size, or handle as missing data - needs careful thought!\n",
    "\n",
    "                # Basic features for this driver *for this race*\n",
    "                driver_data = {\n",
    "                    'Year': year,\n",
    "                    'EventName': event_name,\n",
    "                    'DriverAbbreviation': drv_abbr,\n",
    "                    'TeamName': result['TeamName'],\n",
    "                    'GridPosition': grid_pos,\n",
    "                    'FinishPosition': result['Position'],\n",
    "                    'Status': result['Status'],\n",
    "                    'Points': result['Points'],\n",
    "                    # TARGET VARIABLE: Did the driver win? (Position == 1)\n",
    "                    'WonRace': 1 if result['Position'] == 1 else 0\n",
    "                    # Add more features here! E.g., from race_session.laps, race_session.weather_data\n",
    "                    # You'll also need to engineer features based on *previous* races (lagged features)\n",
    "                }\n",
    "                all_race_data.append(driver_data)\n",
    "        except ff1 as e:\n",
    "            print(f\"    Ergast error loading data for {event_name}, {year}: {e}. Skipping.\")\n",
    "        except ff1.RateLimitExceededError as e:\n",
    "            print(f\"    Rate limit exceeded for {event_name}, {year}: {e}. Consider adding delays.\")\n",
    "            # Potentially add a time.sleep(60) here and retry or break\n",
    "        except Exception as e:\n",
    "            # Catch other potential errors during session loading or processing\n",
    "            print(f\"    An error occurred processing {event_name}, {year}: {e}. Skipping.\")\n"
   ],
   "id": "94f1b680116d49de",
   "outputs": [],
   "execution_count": null
  }
 ],
 "metadata": {
  "kernelspec": {
   "display_name": "Python 3",
   "language": "python",
   "name": "python3"
  },
  "language_info": {
   "codemirror_mode": {
    "name": "ipython",
    "version": 2
   },
   "file_extension": ".py",
   "mimetype": "text/x-python",
   "name": "python",
   "nbconvert_exporter": "python",
   "pygments_lexer": "ipython2",
   "version": "2.7.6"
  }
 },
 "nbformat": 4,
 "nbformat_minor": 5
}
